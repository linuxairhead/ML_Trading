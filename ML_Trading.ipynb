{
 "cells": [
  {
   "cell_type": "markdown",
   "metadata": {},
   "source": [
    "# Machine Learning for Trading"
   ]
  },
  {
   "cell_type": "markdown",
   "metadata": {},
   "source": [
    "## Lesson 3"
   ]
  },
  {
   "cell_type": "code",
   "execution_count": 1,
   "metadata": {},
   "outputs": [],
   "source": [
    "import pandas as pd\n",
    "import os"
   ]
  },
  {
   "cell_type": "markdown",
   "metadata": {
    "collapsed": true
   },
   "source": [
    "* Create an empty data frame"
   ]
  },
  {
   "cell_type": "code",
   "execution_count": 2,
   "metadata": {},
   "outputs": [],
   "source": [
    "''' Build a dataframe in pandas '''\n",
    "def empty_data_frame():\n",
    "    \n",
    "    # Define data range\n",
    "    start_date = '2015-01-22'\n",
    "    end_date = '2015-01-26'\n",
    "    dates = pd.date_range(start_date, end_date)\n",
    "    \n",
    "    # Create an empty dataframe\n",
    "    df1 = pd.DataFrame(index=dates)\n",
    "    \n",
    "    # Read SPY data into temporary dataframe\n",
    "    # Date will be use for index\n",
    "    dfSPY = pd.read_csv(\"data/SPY.csv\", index_col=\"Date\", parse_dates=True,\n",
    "                               usecols=['Date', 'Adj Close'], na_values=['nan'])\n",
    "    \n",
    "    #Rename 'Adj Close' column to 'SPY' to prevent clash\n",
    "    dfSPY = dfSPY.rename(columns={'Adj Close':'SPY'})\n",
    "    \n",
    "    # print (dfSPY) # check the index of dfSPY\n",
    "    \n",
    "    # Join the two dataframes using DataFrame.join()\n",
    "    # how = 'inner' --> Drop NaN Values,     df1 = df1.dropna()\n",
    "    df1 = df1.join(dfSPY, how = 'inner')\n",
    "    \n",
    "    \n",
    "    # Read in more stocks\n",
    "    symbols = ['GOOG','IBM','GLD']\n",
    "    \n",
    "    for symbol in symbols:\n",
    "        df_temp = pd.read_csv(\"data/{}.csv\".format(symbol), index_col='Date', \n",
    "                             parse_dates=True, usecols=['Date', 'Adj Close'] , na_values=['nan'])\n",
    "        \n",
    "        #Rename 'Adj Close' column to 'SPY' to prevent clash\n",
    "        df_temp = df_temp.rename(columns={'Adj Close': symbol})\n",
    "    \n",
    "        df1=df1.join(df_temp) # use default how='left'\n",
    "    \n",
    "\n",
    "    \n",
    "    print (df1)"
   ]
  },
  {
   "cell_type": "code",
   "execution_count": 3,
   "metadata": {},
   "outputs": [
    {
     "name": "stdout",
     "output_type": "stream",
     "text": [
      "                   SPY        GOOG         IBM         GLD\n",
      "2015-01-22  192.280518  531.465332  134.329025  125.230003\n",
      "2015-01-23  191.226273  536.994873  134.743942  124.230003\n",
      "2015-01-26  191.674103  532.280823  135.167526  122.989998\n"
     ]
    }
   ],
   "source": [
    "empty_data_frame()"
   ]
  },
  {
   "cell_type": "markdown",
   "metadata": {},
   "source": [
    "* Modify empty_data_frame to create utility functions"
   ]
  },
  {
   "cell_type": "code",
   "execution_count": 4,
   "metadata": {},
   "outputs": [],
   "source": [
    "def symbol_to_path(symbol, base_dir='data'):\n",
    "    return os.path.join(base_dir, \"{}.csv\".format(str(symbol)))"
   ]
  },
  {
   "cell_type": "code",
   "execution_count": 5,
   "metadata": {},
   "outputs": [],
   "source": [
    "def get_data(symbols, dates):\n",
    "    \n",
    "    \"\"\"Read stock data (adjusted close) for given symbols from CSV files.\"\"\"\n",
    "    df = pd.DataFrame(index=dates)\n",
    "    \n",
    "    if 'SPY' not in symbols:  # add SPY for reference, if absent\n",
    "        symbols.insert(0, 'SPY')\n",
    "        \n",
    "    for symbol in symbols:\n",
    "        df_temp = pd.read_csv(symbol_to_path(symbol), index_col='Date', \n",
    "                                        parse_dates=True, usecols=['Date', 'Adj Close'] , na_values=['nan'])\n",
    "        df_temp = df_temp.rename(columns={'Adj Close': symbol})\n",
    "        \n",
    "        df=df.join(df_temp, how = 'inner') # use default how='left'\n",
    "        \n",
    "    return df    \n",
    "        "
   ]
  },
  {
   "cell_type": "code",
   "execution_count": 6,
   "metadata": {},
   "outputs": [],
   "source": [
    "def data_frame():\n",
    "    # Define a date range\n",
    "    dates = pd.date_range('2015-01-22', '2015-01-26')\n",
    "\n",
    "    # Choose stock symbols to read\n",
    "    symbols = ['GOOG', 'IBM', 'GLD']\n",
    "    \n",
    "    # Get stock data\n",
    "    df = get_data(symbols, dates)\n",
    "    print (df)"
   ]
  },
  {
   "cell_type": "code",
   "execution_count": 7,
   "metadata": {},
   "outputs": [
    {
     "name": "stdout",
     "output_type": "stream",
     "text": [
      "                   SPY        GOOG         IBM         GLD\n",
      "2015-01-22  192.280518  531.465332  134.329025  125.230003\n",
      "2015-01-23  191.226273  536.994873  134.743942  124.230003\n",
      "2015-01-26  191.674103  532.280823  135.167526  122.989998\n"
     ]
    }
   ],
   "source": [
    "data_frame()"
   ]
  },
  {
   "cell_type": "code",
   "execution_count": null,
   "metadata": {},
   "outputs": [],
   "source": []
  },
  {
   "cell_type": "code",
   "execution_count": null,
   "metadata": {},
   "outputs": [],
   "source": []
  }
 ],
 "metadata": {
  "anaconda-cloud": {},
  "kernelspec": {
   "display_name": "Python 3",
   "language": "python",
   "name": "python3"
  },
  "language_info": {
   "codemirror_mode": {
    "name": "ipython",
    "version": 3
   },
   "file_extension": ".py",
   "mimetype": "text/x-python",
   "name": "python",
   "nbconvert_exporter": "python",
   "pygments_lexer": "ipython3",
   "version": "3.5.2"
  },
  "widgets": {
   "state": {},
   "version": "1.1.2"
  }
 },
 "nbformat": 4,
 "nbformat_minor": 1
}
